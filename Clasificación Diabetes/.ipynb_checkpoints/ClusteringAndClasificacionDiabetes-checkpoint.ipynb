{
 "cells": [
  {
   "cell_type": "code",
   "execution_count": 1,
   "metadata": {},
   "outputs": [],
   "source": [
    "import os\n",
    "import sys\n",
    "\n",
    "os.environ['PYSPARK_PYTHON'] = sys.executable\n",
    "os.environ['PYSPARK_DRIVER_PYTHON'] = sys.executable"
   ]
  },
  {
   "cell_type": "code",
   "execution_count": 2,
   "metadata": {},
   "outputs": [],
   "source": [
    "import findspark\n",
    "findspark.init(r'D:\\Spark\\spark-3.5.1-bin-hadoop3')"
   ]
  },
  {
   "cell_type": "code",
   "execution_count": 3,
   "metadata": {},
   "outputs": [
    {
     "data": {
      "text/html": [
       "\n",
       "            <div>\n",
       "                <p><b>SparkSession - in-memory</b></p>\n",
       "                \n",
       "        <div>\n",
       "            <p><b>SparkContext</b></p>\n",
       "\n",
       "            <p><a href=\"http://DESKTOP-OPSBONI:4040\">Spark UI</a></p>\n",
       "\n",
       "            <dl>\n",
       "              <dt>Version</dt>\n",
       "                <dd><code>v3.5.1</code></dd>\n",
       "              <dt>Master</dt>\n",
       "                <dd><code>local[*]</code></dd>\n",
       "              <dt>AppName</dt>\n",
       "                <dd><code>pyspark_ejercicio</code></dd>\n",
       "            </dl>\n",
       "        </div>\n",
       "        \n",
       "            </div>\n",
       "        "
      ],
      "text/plain": [
       "<pyspark.sql.session.SparkSession at 0x18b392e31d0>"
      ]
     },
     "execution_count": 3,
     "metadata": {},
     "output_type": "execute_result"
    }
   ],
   "source": [
    "\n",
    "\n",
    "import pyspark\n",
    "from pyspark.sql import SparkSession\n",
    "\n",
    "spark = SparkSession.builder.appName(\"pyspark_ejercicio\").getOrCreate()\n",
    "spark"
   ]
  },
  {
   "cell_type": "code",
   "execution_count": 4,
   "metadata": {},
   "outputs": [],
   "source": [
    "from pyspark.sql.functions import col"
   ]
  },
  {
   "cell_type": "code",
   "execution_count": 8,
   "metadata": {},
   "outputs": [],
   "source": [
    "data = spark.read.csv(path= 'Data/Diabetes.csv',header=True,inferSchema=True)"
   ]
  },
  {
   "cell_type": "code",
   "execution_count": 6,
   "metadata": {},
   "outputs": [
    {
     "name": "stdout",
     "output_type": "stream",
     "text": [
      "root\n",
      " |-- Diabetes_012: double (nullable = true)\n",
      " |-- HighBP: integer (nullable = true)\n",
      " |-- HighChol: double (nullable = true)\n",
      " |-- CholCheck: integer (nullable = true)\n",
      " |-- BMI: double (nullable = true)\n",
      " |-- Smoker: double (nullable = true)\n",
      " |-- Stroke: double (nullable = true)\n",
      " |-- HeartDiseaseorAttack: double (nullable = true)\n",
      " |-- PhysActivity: integer (nullable = true)\n",
      " |-- Fruits: integer (nullable = true)\n",
      " |-- Veggies: integer (nullable = true)\n",
      " |-- HvyAlcoholConsump: integer (nullable = true)\n",
      " |-- AnyHealthcare: integer (nullable = true)\n",
      " |-- NoDocbcCost: double (nullable = true)\n",
      " |-- GenHlth: double (nullable = true)\n",
      " |-- MentHlth: double (nullable = true)\n",
      " |-- PhysHlth: double (nullable = true)\n",
      " |-- DiffWalk: double (nullable = true)\n",
      " |-- Sex: integer (nullable = true)\n",
      " |-- Age: integer (nullable = true)\n",
      " |-- Education: double (nullable = true)\n",
      " |-- Income: double (nullable = true)\n",
      "\n"
     ]
    }
   ],
   "source": [
    "data.printSchema()"
   ]
  },
  {
   "cell_type": "code",
   "execution_count": 7,
   "metadata": {},
   "outputs": [
    {
     "data": {
      "text/plain": [
       "Diabetes_012            0\n",
       "HighBP                  0\n",
       "HighChol                0\n",
       "CholCheck               0\n",
       "BMI                     0\n",
       "Smoker                  0\n",
       "Stroke                  0\n",
       "HeartDiseaseorAttack    0\n",
       "PhysActivity            0\n",
       "Fruits                  0\n",
       "Veggies                 0\n",
       "HvyAlcoholConsump       0\n",
       "AnyHealthcare           0\n",
       "NoDocbcCost             0\n",
       "GenHlth                 0\n",
       "MentHlth                0\n",
       "PhysHlth                0\n",
       "DiffWalk                0\n",
       "Sex                     0\n",
       "Age                     0\n",
       "Education               0\n",
       "Income                  0\n",
       "dtype: int64"
      ]
     },
     "execution_count": 7,
     "metadata": {},
     "output_type": "execute_result"
    }
   ],
   "source": [
    "data.toPandas().isna().sum()"
   ]
  },
  {
   "cell_type": "markdown",
   "metadata": {},
   "source": [
    "0 = no diabetes, 1 = prediabetes, 2 = diabetes"
   ]
  },
  {
   "cell_type": "code",
   "execution_count": 11,
   "metadata": {},
   "outputs": [
    {
     "name": "stdout",
     "output_type": "stream",
     "text": [
      "+------------+------+\n",
      "|Diabetes_012| count|\n",
      "+------------+------+\n",
      "|         0.0|197191|\n",
      "|         1.0|  5619|\n",
      "|         2.0| 33568|\n",
      "+------------+------+\n",
      "\n"
     ]
    }
   ],
   "source": [
    "data.groupBy(\"Diabetes_012\").count().show()"
   ]
  },
  {
   "cell_type": "code",
   "execution_count": 16,
   "metadata": {},
   "outputs": [
    {
     "name": "stdout",
     "output_type": "stream",
     "text": [
      "+------------+------+--------+---------+----+------+------+--------------------+------------+------+-------+-----------------+-------------+-----------+-------+--------+--------+--------+---+---+---------+------+\n",
      "|Diabetes_012|HighBP|HighChol|CholCheck| BMI|Smoker|Stroke|HeartDiseaseorAttack|PhysActivity|Fruits|Veggies|HvyAlcoholConsump|AnyHealthcare|NoDocbcCost|GenHlth|MentHlth|PhysHlth|DiffWalk|Sex|Age|Education|Income|\n",
      "+------------+------+--------+---------+----+------+------+--------------------+------------+------+-------+-----------------+-------------+-----------+-------+--------+--------+--------+---+---+---------+------+\n",
      "|         0.0|     0|     1.0|        1|15.0|   1.0|   0.0|                 0.0|           0|     1|      1|                0|            1|        0.0|    5.0|    10.0|    20.0|     0.0|  0| 11|      4.0|   5.0|\n",
      "|         0.0|     0|     0.0|        1|24.0|   1.0|   0.0|                 0.0|           0|     0|      0|                0|            1|        0.0|    3.0|     0.0|     0.0|     1.0|  1| 13|      5.0|   6.0|\n",
      "|         0.0|     1|     0.0|        1|40.0|   1.0|   0.0|                 0.0|           1|     1|      1|                0|            1|        0.0|    3.0|     5.0|    25.0|     1.0|  0| 10|      4.0|   8.0|\n",
      "|         0.0|     1|     1.0|        1|27.0|   1.0|   0.0|                 0.0|           0|     0|      1|                0|            1|        0.0|    4.0|    25.0|     0.0|     0.0|  0| 10|      5.0|   3.0|\n",
      "|         0.0|     1|     1.0|        1|30.0|   0.0|   0.0|                 0.0|           0|     1|      1|                0|            1|        0.0|    2.0|     0.0|     0.0|     0.0|  0|  7|      4.0|   6.0|\n",
      "|         0.0|     1|     1.0|        1|36.0|   1.0|   0.0|                 0.0|           0|     0|      0|                0|            1|        0.0|    4.0|     0.0|     0.0|     0.0|  1| 10|      4.0|   8.0|\n",
      "|         0.0|     1|     1.0|        1|27.0|   1.0|   0.0|                 0.0|           0|     1|      1|                0|            1|        0.0|    3.0|     0.0|     2.0|     1.0|  0| 13|      6.0|   6.0|\n",
      "|         0.0|     1|     1.0|        1|35.0|   1.0|   0.0|                 0.0|           1|     1|      0|                0|            1|        0.0|    3.0|     5.0|     3.0|     0.0|  0| 11|      4.0|   5.0|\n",
      "|         0.0|     1|     1.0|        1|30.0|   0.0|   0.0|                 0.0|           1|     1|      0|                0|            1|        0.0|    2.0|     0.0|    10.0|     0.0|  0| 10|      6.0|   8.0|\n",
      "|         0.0|     0|     0.0|        1|31.0|   0.0|   0.0|                 0.0|           1|     1|      1|                0|            1|        0.0|    1.0|     0.0|     2.0|     0.0|  1| 11|      6.0|   8.0|\n",
      "|         0.0|     0|     0.0|        1|31.0|   1.0|   0.0|                 0.0|           1|     1|      1|                0|            1|        0.0|    4.0|     5.0|     0.0|     0.0|  0| 10|      5.0|   6.0|\n",
      "|         0.0|     1|     0.0|        1|29.0|   0.0|   0.0|                 0.0|           1|     1|      1|                0|            1|        0.0|    4.0|     0.0|     0.0|     0.0|  1| 11|      4.0|   5.0|\n",
      "|         0.0|     1|     0.0|        1|27.0|   1.0|   1.0|                 0.0|           1|     0|      0|                0|            1|        0.0|    3.0|     7.0|    15.0|     0.0|  0|  7|      5.0|   5.0|\n",
      "|         0.0|     1|     0.0|        1|29.0|   1.0|   0.0|                 0.0|           1|     1|      1|                0|            1|        0.0|    3.0|     0.0|    30.0|     0.0|  1| 12|      6.0|   8.0|\n",
      "|         0.0|     0|     0.0|        1|22.0|   0.0|   0.0|                 0.0|           1|     1|      1|                0|            1|        0.0|    1.0|     0.0|     0.0|     0.0|  0|  9|      6.0|   8.0|\n",
      "|         0.0|     1|     1.0|        1|26.0|   1.0|   0.0|                 0.0|           0|     1|      1|                0|            1|        0.0|    3.0|     0.0|     0.0|     1.0|  0| 13|      5.0|   8.0|\n",
      "|         0.0|     1|     1.0|        1|26.0|   1.0|   0.0|                 0.0|           0|     1|      1|                0|            1|        0.0|    3.0|     0.0|     0.0|     1.0|  0| 12|      5.0|   2.0|\n",
      "|         0.0|     0|     0.0|        1|28.0|   0.0|   0.0|                 0.0|           1|     1|      1|                0|            1|        0.0|    2.0|     0.0|     0.0|     0.0|  1|  8|      6.0|  10.0|\n",
      "|         0.0|     1|     1.0|        1|30.0|   1.0|   0.0|                 0.0|           0|     1|      1|                0|            1|        1.0|    4.0|    30.0|    15.0|     1.0|  0|  8|      5.0|   7.0|\n",
      "|         0.0|     1|     1.0|        1|30.0|   1.0|   0.0|                 0.0|           1|     0|      1|                0|            1|        0.0|    4.0|    25.0|     2.0|     1.0|  0|  9|      4.0|   7.0|\n",
      "+------------+------+--------+---------+----+------+------+--------------------+------------+------+-------+-----------------+-------------+-----------+-------+--------+--------+--------+---+---+---------+------+\n",
      "only showing top 20 rows\n",
      "\n"
     ]
    }
   ],
   "source": [
    "data.filter(col('Diabetes_012') == 0).show()"
   ]
  },
  {
   "cell_type": "markdown",
   "metadata": {},
   "source": [
    "Vamos hacer clustering y a analizar los resultados"
   ]
  },
  {
   "cell_type": "code",
   "execution_count": 10,
   "metadata": {},
   "outputs": [],
   "source": [
    "\n",
    "from pyspark.ml.feature import VectorAssembler"
   ]
  },
  {
   "cell_type": "code",
   "execution_count": 9,
   "metadata": {},
   "outputs": [],
   "source": [
    "assembler = VectorAssembler(inputCols = data.columns,\n",
    "                            outputCol = \"features\")\n",
    "\n",
    "data = assembler.transform(data)"
   ]
  },
  {
   "cell_type": "code",
   "execution_count": 12,
   "metadata": {},
   "outputs": [
    {
     "name": "stdout",
     "output_type": "stream",
     "text": [
      "+--------------------------------------------------------------------------------------------------+\n",
      "|features                                                                                          |\n",
      "+--------------------------------------------------------------------------------------------------+\n",
      "|(22,[2,3,4,5,9,10,12,14,15,16,19,20,21],[1.0,1.0,15.0,1.0,1.0,1.0,1.0,5.0,10.0,20.0,11.0,4.0,5.0])|\n",
      "|(22,[0,1,3,4,7,9,12,14,19,20,21],[2.0,1.0,1.0,28.0,1.0,1.0,1.0,2.0,11.0,4.0,3.0])                 |\n",
      "|[2.0,1.0,1.0,1.0,33.0,0.0,0.0,0.0,1.0,1.0,1.0,0.0,1.0,0.0,2.0,10.0,0.0,0.0,0.0,9.0,4.0,7.0]       |\n",
      "|[2.0,0.0,1.0,1.0,29.0,0.0,1.0,1.0,1.0,1.0,1.0,0.0,1.0,0.0,5.0,0.0,30.0,1.0,1.0,12.0,3.0,4.0]      |\n",
      "|(22,[3,4,5,12,14,17,18,19,20,21],[1.0,24.0,1.0,1.0,3.0,1.0,1.0,13.0,5.0,6.0])                     |\n",
      "+--------------------------------------------------------------------------------------------------+\n",
      "only showing top 5 rows\n",
      "\n"
     ]
    }
   ],
   "source": [
    "data.select('features').show(5,truncate=False)"
   ]
  },
  {
   "cell_type": "code",
   "execution_count": 13,
   "metadata": {},
   "outputs": [],
   "source": [
    "from pyspark.ml.feature import StandardScaler"
   ]
  },
  {
   "cell_type": "code",
   "execution_count": null,
   "metadata": {},
   "outputs": [],
   "source": [
    "StandardScaler()"
   ]
  },
  {
   "cell_type": "code",
   "execution_count": null,
   "metadata": {},
   "outputs": [],
   "source": [
    "scaler = StandardScaler(inputCol = \"features\",\n",
    "                        outputCol = \"scaled_features\",\n",
    "                        withStd = True,\n",
    "                        withMean = False)\n",
    "\n",
    "data = scaler.fit(data).transform(data)\n",
    "\n",
    "data.toPandas()"
   ]
  },
  {
   "cell_type": "code",
   "execution_count": null,
   "metadata": {},
   "outputs": [],
   "source": []
  }
 ],
 "metadata": {
  "kernelspec": {
   "display_name": "base",
   "language": "python",
   "name": "python3"
  },
  "language_info": {
   "codemirror_mode": {
    "name": "ipython",
    "version": 3
   },
   "file_extension": ".py",
   "mimetype": "text/x-python",
   "name": "python",
   "nbconvert_exporter": "python",
   "pygments_lexer": "ipython3",
   "version": "3.11.7"
  }
 },
 "nbformat": 4,
 "nbformat_minor": 2
}
