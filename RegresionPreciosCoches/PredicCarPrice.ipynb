{
 "cells": [
  {
   "cell_type": "markdown",
   "metadata": {},
   "source": [
    "# Data Cleaning and Pre-processing\n",
    "\n",
    "## Steps:\n",
    "- **Step 1**: Load the dataset.\n",
    "- **Step 2**: Handle missing values.\n",
    "- **Step 3**: Remove duplicates.\n",
    "- **Step 4**: Handle outliers.\n",
    "- **Step 5**: Encode categorical variables.\n",
    "- **Step 6**: Scale numerical variables.\n",
    "- **Step 7**: Split the data into training and testing sets.\n",
    "\n",
    "# Exploratory Data Analysis (EDA)\n",
    "\n",
    "## Graphs:\n",
    "1. **Histogram**: To visualize the distribution of numerical variables.\n",
    "2. **Bar Plot**: To visualize the distribution of categorical variables.\n",
    "3. **Scatter Plot**: To explore the relationship between two numerical variables.\n",
    "4. **Correlation Matrix**: To identify correlations between numerical variables.\n",
    "5. **Box Plot**: To identify outliers.\n",
    "\n",
    "# ML-Model Training and Evaluation\n",
    "\n",
    "## Model:\n",
    "- **Chosen Model**: Random Forest Regression.\n",
    "- **Reason**: Random Forest can handle non-linear relationships and is robust to overfitting.\n",
    "- **Accuracy**: Mean Squared Error (MSE), R-squared (R2).\n",
    "\n",
    "## Hyperparameter Optimization and Feature Selection:\n",
    "- **Grid Search**: Tuning hyperparameters for better model performance.\n",
    "- **Feature Importance**: Determining the most important features using the built model.\n",
    "\n",
    "## Model Deployment and ML-Flow:\n",
    "- **ML-Flow**: Tracking model training process and parameters for reproducibility.\n",
    "- **Deployment**: Deploying the trained model for inference in production.\n",
    "\n",
    "# Model Interpretation and Feature Importance\n",
    "\n",
    "## Explanation:\n",
    "- **Feature Importance Plot**: Showing the importance of each feature in the model's predictions.\n",
    "- **Interpretation**: Understanding which features have the most influence on the target variable.\n",
    "\n",
    "# Future Steps:\n",
    "- **Model Refinement**: Fine-tuning hyperparameters for better performance.\n",
    "- **Feature Engineering**: Exploring additional features to improve model accuracy.\n",
    "- **Model Monitoring**: Continuously monitoring model performance in production.\n"
   ]
  },
  {
   "cell_type": "markdown",
   "metadata": {},
   "source": []
  },
  {
   "cell_type": "code",
   "execution_count": 1,
   "metadata": {},
   "outputs": [],
   "source": [
    "import pandas as pd\n",
    "\n",
    "from sklearn.preprocessing import LabelEncoder"
   ]
  },
  {
   "cell_type": "code",
   "execution_count": 2,
   "metadata": {},
   "outputs": [],
   "source": [
    "data = pd.read_csv(\"./Data/car_price_prediction.csv\")"
   ]
  },
  {
   "cell_type": "code",
   "execution_count": 3,
   "metadata": {},
   "outputs": [
    {
     "data": {
      "text/html": [
       "<div>\n",
       "<style scoped>\n",
       "    .dataframe tbody tr th:only-of-type {\n",
       "        vertical-align: middle;\n",
       "    }\n",
       "\n",
       "    .dataframe tbody tr th {\n",
       "        vertical-align: top;\n",
       "    }\n",
       "\n",
       "    .dataframe thead th {\n",
       "        text-align: right;\n",
       "    }\n",
       "</style>\n",
       "<table border=\"1\" class=\"dataframe\">\n",
       "  <thead>\n",
       "    <tr style=\"text-align: right;\">\n",
       "      <th></th>\n",
       "      <th>ID</th>\n",
       "      <th>Price</th>\n",
       "      <th>Levy</th>\n",
       "      <th>Manufacturer</th>\n",
       "      <th>Model</th>\n",
       "      <th>Prod. year</th>\n",
       "      <th>Category</th>\n",
       "      <th>Leather interior</th>\n",
       "      <th>Fuel type</th>\n",
       "      <th>Engine volume</th>\n",
       "      <th>Mileage</th>\n",
       "      <th>Cylinders</th>\n",
       "      <th>Gear box type</th>\n",
       "      <th>Drive wheels</th>\n",
       "      <th>Doors</th>\n",
       "      <th>Wheel</th>\n",
       "      <th>Color</th>\n",
       "      <th>Airbags</th>\n",
       "    </tr>\n",
       "  </thead>\n",
       "  <tbody>\n",
       "    <tr>\n",
       "      <th>0</th>\n",
       "      <td>45654403</td>\n",
       "      <td>13328</td>\n",
       "      <td>1399</td>\n",
       "      <td>LEXUS</td>\n",
       "      <td>RX 450</td>\n",
       "      <td>2010</td>\n",
       "      <td>Jeep</td>\n",
       "      <td>Yes</td>\n",
       "      <td>Hybrid</td>\n",
       "      <td>3.5</td>\n",
       "      <td>186005 km</td>\n",
       "      <td>6.0</td>\n",
       "      <td>Automatic</td>\n",
       "      <td>4x4</td>\n",
       "      <td>04-May</td>\n",
       "      <td>Left wheel</td>\n",
       "      <td>Silver</td>\n",
       "      <td>12</td>\n",
       "    </tr>\n",
       "    <tr>\n",
       "      <th>1</th>\n",
       "      <td>44731507</td>\n",
       "      <td>16621</td>\n",
       "      <td>1018</td>\n",
       "      <td>CHEVROLET</td>\n",
       "      <td>Equinox</td>\n",
       "      <td>2011</td>\n",
       "      <td>Jeep</td>\n",
       "      <td>No</td>\n",
       "      <td>Petrol</td>\n",
       "      <td>3</td>\n",
       "      <td>192000 km</td>\n",
       "      <td>6.0</td>\n",
       "      <td>Tiptronic</td>\n",
       "      <td>4x4</td>\n",
       "      <td>04-May</td>\n",
       "      <td>Left wheel</td>\n",
       "      <td>Black</td>\n",
       "      <td>8</td>\n",
       "    </tr>\n",
       "  </tbody>\n",
       "</table>\n",
       "</div>"
      ],
      "text/plain": [
       "         ID  Price  Levy Manufacturer    Model  Prod. year Category  \\\n",
       "0  45654403  13328  1399        LEXUS   RX 450        2010     Jeep   \n",
       "1  44731507  16621  1018    CHEVROLET  Equinox        2011     Jeep   \n",
       "\n",
       "  Leather interior Fuel type Engine volume    Mileage  Cylinders  \\\n",
       "0              Yes    Hybrid           3.5  186005 km        6.0   \n",
       "1               No    Petrol             3  192000 km        6.0   \n",
       "\n",
       "  Gear box type Drive wheels   Doors       Wheel   Color  Airbags  \n",
       "0     Automatic          4x4  04-May  Left wheel  Silver       12  \n",
       "1     Tiptronic          4x4  04-May  Left wheel   Black        8  "
      ]
     },
     "execution_count": 3,
     "metadata": {},
     "output_type": "execute_result"
    }
   ],
   "source": [
    "data.head(2)"
   ]
  },
  {
   "cell_type": "markdown",
   "metadata": {},
   "source": [
    "The column 'ID' is unnecessary for the prediction, so the first step is to drop it."
   ]
  },
  {
   "cell_type": "code",
   "execution_count": 4,
   "metadata": {},
   "outputs": [],
   "source": [
    "data.drop('ID',axis=1,inplace=True)"
   ]
  },
  {
   "cell_type": "code",
   "execution_count": 5,
   "metadata": {},
   "outputs": [
    {
     "data": {
      "text/plain": [
       "Price               0\n",
       "Levy                0\n",
       "Manufacturer        0\n",
       "Model               0\n",
       "Prod. year          0\n",
       "Category            0\n",
       "Leather interior    0\n",
       "Fuel type           0\n",
       "Engine volume       0\n",
       "Mileage             0\n",
       "Cylinders           0\n",
       "Gear box type       0\n",
       "Drive wheels        0\n",
       "Doors               0\n",
       "Wheel               0\n",
       "Color               0\n",
       "Airbags             0\n",
       "dtype: int64"
      ]
     },
     "execution_count": 5,
     "metadata": {},
     "output_type": "execute_result"
    }
   ],
   "source": [
    "data.isna().sum()"
   ]
  },
  {
   "cell_type": "markdown",
   "metadata": {},
   "source": [
    "Same with Wheel column"
   ]
  },
  {
   "cell_type": "code",
   "execution_count": 6,
   "metadata": {},
   "outputs": [],
   "source": [
    "data.drop('Wheel',axis=1,inplace=True)"
   ]
  },
  {
   "cell_type": "code",
   "execution_count": 7,
   "metadata": {},
   "outputs": [
    {
     "data": {
      "text/plain": [
       "array(['04-May', '02-Mar', '>5'], dtype=object)"
      ]
     },
     "execution_count": 7,
     "metadata": {},
     "output_type": "execute_result"
    }
   ],
   "source": [
    "data.Doors.unique()"
   ]
  },
  {
   "cell_type": "code",
   "execution_count": null,
   "metadata": {},
   "outputs": [],
   "source": []
  },
  {
   "cell_type": "code",
   "execution_count": 8,
   "metadata": {},
   "outputs": [
    {
     "data": {
      "text/html": [
       "<div>\n",
       "<style scoped>\n",
       "    .dataframe tbody tr th:only-of-type {\n",
       "        vertical-align: middle;\n",
       "    }\n",
       "\n",
       "    .dataframe tbody tr th {\n",
       "        vertical-align: top;\n",
       "    }\n",
       "\n",
       "    .dataframe thead th {\n",
       "        text-align: right;\n",
       "    }\n",
       "</style>\n",
       "<table border=\"1\" class=\"dataframe\">\n",
       "  <thead>\n",
       "    <tr style=\"text-align: right;\">\n",
       "      <th></th>\n",
       "      <th>Price</th>\n",
       "      <th>Levy</th>\n",
       "      <th>Manufacturer</th>\n",
       "      <th>Model</th>\n",
       "      <th>Prod. year</th>\n",
       "      <th>Category</th>\n",
       "      <th>Leather interior</th>\n",
       "      <th>Fuel type</th>\n",
       "      <th>Engine volume</th>\n",
       "      <th>Mileage</th>\n",
       "      <th>Cylinders</th>\n",
       "      <th>Gear box type</th>\n",
       "      <th>Drive wheels</th>\n",
       "      <th>Doors</th>\n",
       "      <th>Color</th>\n",
       "      <th>Airbags</th>\n",
       "    </tr>\n",
       "  </thead>\n",
       "  <tbody>\n",
       "    <tr>\n",
       "      <th>0</th>\n",
       "      <td>13328</td>\n",
       "      <td>1399</td>\n",
       "      <td>LEXUS</td>\n",
       "      <td>RX 450</td>\n",
       "      <td>2010</td>\n",
       "      <td>Jeep</td>\n",
       "      <td>Yes</td>\n",
       "      <td>Hybrid</td>\n",
       "      <td>3.5</td>\n",
       "      <td>186005 km</td>\n",
       "      <td>6.0</td>\n",
       "      <td>Automatic</td>\n",
       "      <td>4x4</td>\n",
       "      <td>04-May</td>\n",
       "      <td>Silver</td>\n",
       "      <td>12</td>\n",
       "    </tr>\n",
       "  </tbody>\n",
       "</table>\n",
       "</div>"
      ],
      "text/plain": [
       "   Price  Levy Manufacturer   Model  Prod. year Category Leather interior  \\\n",
       "0  13328  1399        LEXUS  RX 450        2010     Jeep              Yes   \n",
       "\n",
       "  Fuel type Engine volume    Mileage  Cylinders Gear box type Drive wheels  \\\n",
       "0    Hybrid           3.5  186005 km        6.0     Automatic          4x4   \n",
       "\n",
       "    Doors   Color  Airbags  \n",
       "0  04-May  Silver       12  "
      ]
     },
     "execution_count": 8,
     "metadata": {},
     "output_type": "execute_result"
    }
   ],
   "source": [
    "data.head(1)"
   ]
  },
  {
   "cell_type": "markdown",
   "metadata": {},
   "source": [
    "We can check for missing values ('NaN') within the data. Once we've confirmed there are none, we can proceed to map the categorical columns"
   ]
  },
  {
   "cell_type": "code",
   "execution_count": null,
   "metadata": {},
   "outputs": [],
   "source": []
  },
  {
   "cell_type": "code",
   "execution_count": 9,
   "metadata": {},
   "outputs": [],
   "source": [
    "manufacturer_map = {manufacture : idx for idx,manufacture in enumerate (set(data.Manufacturer.unique()))}\n",
    "model_map = {model : idx for idx,model in enumerate(set(data.Model.unique()))}\n",
    "category_map = {category : idx for idx,category in enumerate(set(data.Category.unique()))}\n",
    "interior_map = {interior : idx for idx,interior in enumerate(set(data[\"Leather interior\"].unique()))}\n",
    "engine_map = {engine : idx for idx,engine in enumerate(set(data['Fuel type'].unique()))}\n",
    "boxType_map = {boxType :idx for idx,boxType in enumerate(set(data['Gear box type'].unique()))}\n",
    "color_map = {color : idx for idx,color in enumerate(set(data.Color.unique()))}\n",
    "drive_wheel_map = {dwheel : idx for idx,dwheel in enumerate(set(data['Drive wheels'].unique()))}\n",
    "doors_map = {\n",
    "    '02-Mar':3,\n",
    "    '04-May':5,\n",
    "    '>5':6\n",
    "\n",
    "}\n"
   ]
  },
  {
   "cell_type": "code",
   "execution_count": null,
   "metadata": {},
   "outputs": [],
   "source": [
    "\n"
   ]
  },
  {
   "cell_type": "code",
   "execution_count": 10,
   "metadata": {},
   "outputs": [],
   "source": [
    "mileage_km = []\n",
    "for km in data.Mileage.to_list():\n",
    "    mileage_km.append(int(km.split(\"km\")[0].split(\" \")[0]))"
   ]
  },
  {
   "cell_type": "code",
   "execution_count": 11,
   "metadata": {},
   "outputs": [
    {
     "data": {
      "text/plain": [
       "186005"
      ]
     },
     "execution_count": 11,
     "metadata": {},
     "output_type": "execute_result"
    }
   ],
   "source": [
    "int(data.Mileage.to_list()[0].split('km')[0].split(\" \")[0])"
   ]
  },
  {
   "cell_type": "code",
   "execution_count": 12,
   "metadata": {},
   "outputs": [],
   "source": [
    "data2 = data.copy()"
   ]
  },
  {
   "cell_type": "code",
   "execution_count": 13,
   "metadata": {},
   "outputs": [
    {
     "data": {
      "text/plain": [
       "(19237, 16)"
      ]
     },
     "execution_count": 13,
     "metadata": {},
     "output_type": "execute_result"
    }
   ],
   "source": [
    "data2.shape"
   ]
  },
  {
   "cell_type": "markdown",
   "metadata": {},
   "source": [
    "check for duplicates then drop it"
   ]
  },
  {
   "cell_type": "code",
   "execution_count": 14,
   "metadata": {},
   "outputs": [
    {
     "data": {
      "text/plain": [
       "3512"
      ]
     },
     "execution_count": 14,
     "metadata": {},
     "output_type": "execute_result"
    }
   ],
   "source": [
    "data2.duplicated().sum()"
   ]
  },
  {
   "cell_type": "code",
   "execution_count": 15,
   "metadata": {},
   "outputs": [],
   "source": [
    "data.drop_duplicates(inplace=True)\n",
    "data2.drop_duplicates(inplace=True)"
   ]
  },
  {
   "cell_type": "code",
   "execution_count": 16,
   "metadata": {},
   "outputs": [],
   "source": [
    "data2['Manufacturer_map'] = data2['Manufacturer'].map(manufacturer_map)\n",
    "data2['Model_map'] = data2['Model'].map(model_map)\n",
    "data2['Category_map'] = data2['Category'].map(category_map)\n",
    "data2['Leather interior_map'] = data2['Leather interior'].map(interior_map)\n",
    "data2['Fuel type_map'] = data2['Fuel type'].map(engine_map)\n",
    "data2['Gear box type_map'] = data2['Gear box type'].map(boxType_map)\n",
    "data2['Color_map'] = data2['Color'].map(color_map)\n",
    "data2['Drive wheels_map'] = data2['Drive wheels'].map(drive_wheel_map)\n",
    "data2['Doors_map'] = data2['Doors'].map(doors_map)"
   ]
  },
  {
   "cell_type": "code",
   "execution_count": 17,
   "metadata": {},
   "outputs": [
    {
     "data": {
      "text/html": [
       "<div>\n",
       "<style scoped>\n",
       "    .dataframe tbody tr th:only-of-type {\n",
       "        vertical-align: middle;\n",
       "    }\n",
       "\n",
       "    .dataframe tbody tr th {\n",
       "        vertical-align: top;\n",
       "    }\n",
       "\n",
       "    .dataframe thead th {\n",
       "        text-align: right;\n",
       "    }\n",
       "</style>\n",
       "<table border=\"1\" class=\"dataframe\">\n",
       "  <thead>\n",
       "    <tr style=\"text-align: right;\">\n",
       "      <th></th>\n",
       "      <th>Price</th>\n",
       "      <th>Levy</th>\n",
       "      <th>Manufacturer</th>\n",
       "      <th>Model</th>\n",
       "      <th>Prod. year</th>\n",
       "      <th>Category</th>\n",
       "      <th>Leather interior</th>\n",
       "      <th>Fuel type</th>\n",
       "      <th>Engine volume</th>\n",
       "      <th>Mileage</th>\n",
       "      <th>...</th>\n",
       "      <th>Airbags</th>\n",
       "      <th>Manufacturer_map</th>\n",
       "      <th>Model_map</th>\n",
       "      <th>Category_map</th>\n",
       "      <th>Leather interior_map</th>\n",
       "      <th>Fuel type_map</th>\n",
       "      <th>Gear box type_map</th>\n",
       "      <th>Color_map</th>\n",
       "      <th>Drive wheels_map</th>\n",
       "      <th>Doors_map</th>\n",
       "    </tr>\n",
       "  </thead>\n",
       "  <tbody>\n",
       "    <tr>\n",
       "      <th>0</th>\n",
       "      <td>13328</td>\n",
       "      <td>1399</td>\n",
       "      <td>LEXUS</td>\n",
       "      <td>RX 450</td>\n",
       "      <td>2010</td>\n",
       "      <td>Jeep</td>\n",
       "      <td>Yes</td>\n",
       "      <td>Hybrid</td>\n",
       "      <td>3.5</td>\n",
       "      <td>186005 km</td>\n",
       "      <td>...</td>\n",
       "      <td>12</td>\n",
       "      <td>10</td>\n",
       "      <td>459</td>\n",
       "      <td>10</td>\n",
       "      <td>0</td>\n",
       "      <td>0</td>\n",
       "      <td>0</td>\n",
       "      <td>6</td>\n",
       "      <td>1</td>\n",
       "      <td>5</td>\n",
       "    </tr>\n",
       "    <tr>\n",
       "      <th>1</th>\n",
       "      <td>16621</td>\n",
       "      <td>1018</td>\n",
       "      <td>CHEVROLET</td>\n",
       "      <td>Equinox</td>\n",
       "      <td>2011</td>\n",
       "      <td>Jeep</td>\n",
       "      <td>No</td>\n",
       "      <td>Petrol</td>\n",
       "      <td>3</td>\n",
       "      <td>192000 km</td>\n",
       "      <td>...</td>\n",
       "      <td>8</td>\n",
       "      <td>54</td>\n",
       "      <td>176</td>\n",
       "      <td>10</td>\n",
       "      <td>1</td>\n",
       "      <td>1</td>\n",
       "      <td>1</td>\n",
       "      <td>2</td>\n",
       "      <td>1</td>\n",
       "      <td>5</td>\n",
       "    </tr>\n",
       "  </tbody>\n",
       "</table>\n",
       "<p>2 rows × 25 columns</p>\n",
       "</div>"
      ],
      "text/plain": [
       "   Price  Levy Manufacturer    Model  Prod. year Category Leather interior  \\\n",
       "0  13328  1399        LEXUS   RX 450        2010     Jeep              Yes   \n",
       "1  16621  1018    CHEVROLET  Equinox        2011     Jeep               No   \n",
       "\n",
       "  Fuel type Engine volume    Mileage  ...  Airbags Manufacturer_map Model_map  \\\n",
       "0    Hybrid           3.5  186005 km  ...       12               10       459   \n",
       "1    Petrol             3  192000 km  ...        8               54       176   \n",
       "\n",
       "  Category_map Leather interior_map  Fuel type_map  Gear box type_map  \\\n",
       "0           10                    0              0                  0   \n",
       "1           10                    1              1                  1   \n",
       "\n",
       "   Color_map  Drive wheels_map  Doors_map  \n",
       "0          6                 1          5  \n",
       "1          2                 1          5  \n",
       "\n",
       "[2 rows x 25 columns]"
      ]
     },
     "execution_count": 17,
     "metadata": {},
     "output_type": "execute_result"
    }
   ],
   "source": [
    "data2.head(2)"
   ]
  },
  {
   "cell_type": "code",
   "execution_count": 18,
   "metadata": {},
   "outputs": [
    {
     "data": {
      "text/plain": [
       "array([1, 0, 2], dtype=int64)"
      ]
     },
     "execution_count": 18,
     "metadata": {},
     "output_type": "execute_result"
    }
   ],
   "source": [
    "data2['Drive wheels_map'].unique()"
   ]
  },
  {
   "cell_type": "code",
   "execution_count": 19,
   "metadata": {},
   "outputs": [],
   "source": [
    "data2.drop(['Manufacturer','Model','Category','Leather interior','Fuel type','Mileage','Gear box type','Color','Drive wheels','Levy','Doors'],axis=1,inplace=True)\n"
   ]
  },
  {
   "cell_type": "code",
   "execution_count": 20,
   "metadata": {},
   "outputs": [
    {
     "data": {
      "text/plain": [
       "Index(['Price', 'Prod. year', 'Engine volume', 'Cylinders', 'Airbags',\n",
       "       'Manufacturer_map', 'Model_map', 'Category_map', 'Leather interior_map',\n",
       "       'Fuel type_map', 'Gear box type_map', 'Color_map', 'Drive wheels_map',\n",
       "       'Doors_map'],\n",
       "      dtype='object')"
      ]
     },
     "execution_count": 20,
     "metadata": {},
     "output_type": "execute_result"
    }
   ],
   "source": [
    "data2.columns"
   ]
  },
  {
   "cell_type": "code",
   "execution_count": 21,
   "metadata": {},
   "outputs": [
    {
     "data": {
      "text/plain": [
       "Price                     int64\n",
       "Prod. year                int64\n",
       "Engine volume            object\n",
       "Cylinders               float64\n",
       "Airbags                   int64\n",
       "Manufacturer_map          int64\n",
       "Model_map                 int64\n",
       "Category_map              int64\n",
       "Leather interior_map      int64\n",
       "Fuel type_map             int64\n",
       "Gear box type_map         int64\n",
       "Color_map                 int64\n",
       "Drive wheels_map          int64\n",
       "Doors_map                 int64\n",
       "dtype: object"
      ]
     },
     "execution_count": 21,
     "metadata": {},
     "output_type": "execute_result"
    }
   ],
   "source": [
    "tipos_de_datos = data2.dtypes\n",
    "tipos_de_datos"
   ]
  },
  {
   "cell_type": "code",
   "execution_count": 22,
   "metadata": {},
   "outputs": [],
   "source": [
    "# data2[data2['Levy'] == '-'].count()"
   ]
  },
  {
   "cell_type": "markdown",
   "metadata": {},
   "source": [
    "we should drop Levy too because have 5k nan dates"
   ]
  },
  {
   "cell_type": "code",
   "execution_count": 23,
   "metadata": {},
   "outputs": [],
   "source": [
    "data2['Engine volume'] = data2['Engine volume'].apply(lambda x: x.split(\" \")[0])"
   ]
  },
  {
   "cell_type": "code",
   "execution_count": 24,
   "metadata": {},
   "outputs": [],
   "source": [
    "data2['Engine volume'] = data2['Engine volume'].astype(float)"
   ]
  },
  {
   "cell_type": "code",
   "execution_count": null,
   "metadata": {},
   "outputs": [],
   "source": []
  },
  {
   "cell_type": "code",
   "execution_count": 25,
   "metadata": {},
   "outputs": [
    {
     "name": "stdout",
     "output_type": "stream",
     "text": [
      "(15725, 16)\n",
      "(15725, 14)\n"
     ]
    }
   ],
   "source": [
    "print(data.shape)\n",
    "print(data2.shape)"
   ]
  },
  {
   "cell_type": "code",
   "execution_count": 26,
   "metadata": {},
   "outputs": [],
   "source": [
    "import os\n",
    "import sys\n",
    "\n",
    "# Agrega la ruta de la carpeta al sys.path\n",
    "ruta_carpeta = os.path.abspath(\"librarys\")  # Ruta absoluta de la carpeta \"librarys\"\n",
    "sys.path.append(ruta_carpeta)\n",
    "\n",
    "# Ahora puedes importar tu módulo desde la carpeta\n",
    "import LibreriaUtilesMachineLearning as lb\n"
   ]
  },
  {
   "cell_type": "markdown",
   "metadata": {},
   "source": [
    "Lets check correlation of data and data2"
   ]
  },
  {
   "cell_type": "code",
   "execution_count": 27,
   "metadata": {},
   "outputs": [
    {
     "name": "stderr",
     "output_type": "stream",
     "text": [
      "c:\\Users\\Danie\\anaconda3\\Lib\\site-packages\\seaborn\\matrix.py:260: FutureWarning: Format strings passed to MaskedConstant are ignored, but in future may error or produce different behavior\n",
      "  annotation = (\"{:\" + self.fmt + \"}\").format(val)\n"
     ]
    },
    {
     "data": {
      "image/png": "[encoded data removed]",
      "text/plain": [
       "<Figure size 1000x1000 with 2 Axes>"
      ]
     },
     "metadata": {},
     "output_type": "display_data"
    }
   ],
   "source": [
    "lb.correlacion(data,10,10)"
   ]
  },
  {
   "cell_type": "code",
   "execution_count": 28,
   "metadata": {},
   "outputs": [
    {
     "name": "stderr",
     "output_type": "stream",
     "text": [
      "c:\\Users\\Danie\\anaconda3\\Lib\\site-packages\\seaborn\\matrix.py:260: FutureWarning: Format strings passed to MaskedConstant are ignored, but in future may error or produce different behavior\n",
      "  annotation = (\"{:\" + self.fmt + \"}\").format(val)\n"
     ]
    },
    {
     "data": {
      "image/png": "[encoded data removed]",
      "text/plain": [
       "<Figure size 1000x1000 with 2 Axes>"
      ]
     },
     "metadata": {},
     "output_type": "display_data"
    }
   ],
   "source": [
    "lb.correlacion(data2,10,10)"
   ]
  },
  {
   "cell_type": "markdown",
   "metadata": {},
   "source": [
    "in both we have no correlation between columns"
   ]
  },
  {
   "cell_type": "code",
   "execution_count": 29,
   "metadata": {},
   "outputs": [],
   "source": [
    "import matplotlib.pyplot as plt"
   ]
  },
  {
   "cell_type": "code",
   "execution_count": 30,
   "metadata": {},
   "outputs": [
    {
     "data": {
      "image/png": "[encoded data removed]",
      "text/plain": [
       "<Figure size 1000x500 with 1 Axes>"
      ]
     },
     "metadata": {},
     "output_type": "display_data"
    }
   ],
   "source": [
    "\n",
    "cantidad_por_año = data2.groupby('Prod. year').size().reset_index(name='count')\n",
    "\n",
    "plt.figure(figsize=(10,5))  # Crear una nueva figura\n",
    "\n",
    "# Crear el gráfico de barras\n",
    "plt.bar(cantidad_por_año['Prod. year'], cantidad_por_año['count'], color='skyblue')\n",
    "\n",
    "# Añadir etiquetas y título\n",
    "plt.xlabel('Año de producción')\n",
    "plt.ylabel('Cantidad de coches')\n",
    "plt.title('Cantidad de coches por año de producción')\n",
    "\n",
    "# Rotar etiquetas del eje x para una mejor visualización\n",
    "plt.xticks(rotation=45)  \n",
    "\n",
    "# Ajustar diseño y mostrar el gráfico\n",
    "plt.tight_layout()       \n",
    "plt.show()"
   ]
  },
  {
   "cell_type": "code",
   "execution_count": 31,
   "metadata": {},
   "outputs": [
    {
     "data": {
      "image/png": "[encoded data removed]",
      "text/plain": [
       "<Figure size 1000x500 with 1 Axes>"
      ]
     },
     "metadata": {},
     "output_type": "display_data"
    }
   ],
   "source": [
    "precio_medio_año = data2.groupby('Prod. year')['Price'].mean()\n",
    "plt.figure(figsize=(10,5))\n",
    "\n",
    "plt.bar(precio_medio_año.index,precio_medio_año.values)\n",
    "\n",
    "plt.xlabel('Año de producción')\n",
    "plt.ylabel('Precio medio')\n",
    "plt.title('Precio medio de los coches por año')\n",
    "\n",
    "plt.xticks(rotation=45)  \n",
    "plt.tight_layout()       \n",
    "plt.show()\n",
    "\n"
   ]
  },
  {
   "cell_type": "code",
   "execution_count": 32,
   "metadata": {},
   "outputs": [
    {
     "data": {
      "text/plain": [
       "array([2010, 2011, 2006, 2014, 2016, 2013, 2007, 1999, 1997, 2018, 2008,\n",
       "       2012, 2017, 2001, 1995, 2009, 2000, 2019, 2015, 2004, 1998, 1990,\n",
       "       2005, 2003, 1985, 1996, 2002, 1993, 1992, 1988, 1977, 1989, 1994,\n",
       "       2020, 1984, 1986, 1991, 1983, 1953, 1964, 1974, 1987, 1943, 1978,\n",
       "       1965, 1976, 1957, 1980, 1939, 1968, 1947, 1982, 1981, 1973],\n",
       "      dtype=int64)"
      ]
     },
     "execution_count": 32,
     "metadata": {},
     "output_type": "execute_result"
    }
   ],
   "source": [
    "data2['Prod. year'].unique()"
   ]
  },
  {
   "cell_type": "code",
   "execution_count": 33,
   "metadata": {},
   "outputs": [
    {
     "data": {
      "text/plain": [
       "(14488, 14)"
      ]
     },
     "execution_count": 33,
     "metadata": {},
     "output_type": "execute_result"
    }
   ],
   "source": [
    "data2[data2['Prod. year'] > 2000].shape"
   ]
  },
  {
   "cell_type": "code",
   "execution_count": 34,
   "metadata": {},
   "outputs": [],
   "source": [
    "df_acotado = data2[data2['Prod. year']>2000]"
   ]
  },
  {
   "cell_type": "code",
   "execution_count": 35,
   "metadata": {},
   "outputs": [
    {
     "data": {
      "text/plain": [
       "array([2010, 2011, 2006, 2014, 2016, 2013, 2007, 2018, 2008, 2012, 2017,\n",
       "       2001, 2009, 2019, 2015, 2004, 2005, 2003, 2002, 2020], dtype=int64)"
      ]
     },
     "execution_count": 35,
     "metadata": {},
     "output_type": "execute_result"
    }
   ],
   "source": [
    "df_acotado['Prod. year'].unique()"
   ]
  },
  {
   "cell_type": "code",
   "execution_count": 36,
   "metadata": {},
   "outputs": [
    {
     "data": {
      "image/png": "[encoded data removed]",
      "text/plain": [
       "<Figure size 1000x500 with 1 Axes>"
      ]
     },
     "metadata": {},
     "output_type": "display_data"
    }
   ],
   "source": [
    "df_acotado_conteo = df_acotado.groupby('Prod. year').size().reset_index(name='count')\n",
    "df_acotado_conteo['Prod. year'] = df_acotado_conteo['Prod. year'].astype(int)\n",
    "fig = plt.figure(figsize=(10,5))\n",
    "\n",
    "plt.bar(df_acotado_conteo['Prod. year'],df_acotado_conteo['count'])\n",
    "\n",
    "# Añadir etiquetas y título\n",
    "plt.xlabel('Año de producción')\n",
    "plt.ylabel('Cantidad de coches')\n",
    "plt.title('Cantidad de coches por año de producción')\n",
    "\n",
    "plt.xticks(df_acotado_conteo['Prod. year'])\n",
    "# Rotar etiquetas del eje x para una mejor visualización\n",
    "plt.xticks(rotation=45)  \n",
    "\n",
    "# Ajustar diseño y mostrar el gráfico\n",
    "plt.tight_layout()       \n",
    "plt.show()"
   ]
  },
  {
   "cell_type": "code",
   "execution_count": 37,
   "metadata": {},
   "outputs": [
    {
     "data": {
      "text/plain": [
       "(3440, 14)"
      ]
     },
     "execution_count": 37,
     "metadata": {},
     "output_type": "execute_result"
    }
   ],
   "source": [
    "df_acotado[df_acotado['Prod. year'] < 2010].shape"
   ]
  },
  {
   "cell_type": "code",
   "execution_count": 38,
   "metadata": {},
   "outputs": [
    {
     "data": {
      "text/plain": [
       "(9948, 14)"
      ]
     },
     "execution_count": 38,
     "metadata": {},
     "output_type": "execute_result"
    }
   ],
   "source": [
    "df_acotado[df_acotado['Prod. year'] > 2010 ].shape"
   ]
  },
  {
   "cell_type": "code",
   "execution_count": 39,
   "metadata": {},
   "outputs": [
    {
     "data": {
      "text/plain": [
       "Index(['Price', 'Prod. year', 'Engine volume', 'Cylinders', 'Airbags',\n",
       "       'Manufacturer_map', 'Model_map', 'Category_map', 'Leather interior_map',\n",
       "       'Fuel type_map', 'Gear box type_map', 'Color_map', 'Drive wheels_map',\n",
       "       'Doors_map'],\n",
       "      dtype='object')"
      ]
     },
     "execution_count": 39,
     "metadata": {},
     "output_type": "execute_result"
    }
   ],
   "source": [
    "df_acotado.columns"
   ]
  },
  {
   "cell_type": "code",
   "execution_count": 40,
   "metadata": {},
   "outputs": [],
   "source": [
    "X = df_acotado.drop('Price',axis =1,inplace=False).values\n",
    "y = df_acotado['Price'].values"
   ]
  },
  {
   "cell_type": "code",
   "execution_count": 41,
   "metadata": {},
   "outputs": [],
   "source": [
    "from sklearn.model_selection import train_test_split\n",
    "from sklearn.preprocessing import MinMaxScaler"
   ]
  },
  {
   "cell_type": "code",
   "execution_count": null,
   "metadata": {},
   "outputs": [],
   "source": []
  },
  {
   "cell_type": "code",
   "execution_count": 42,
   "metadata": {},
   "outputs": [],
   "source": [
    "X_train, X_test, y_train, y_test = train_test_split(X, y, test_size = 0.20, random_state =42)\n",
    "# scaler = MinMaxScaler()\n",
    "# scaler.fit(X_train)#aplicamos el scaler a xtrain y con el scaler resultante transformamos xtrain y xtest\n",
    "# X_train_scaler = scaler.transform(X_train)\n",
    "# X_test_scaler = scaler.transform(X_test)"
   ]
  },
  {
   "cell_type": "code",
   "execution_count": 43,
   "metadata": {},
   "outputs": [
    {
     "name": "stdout",
     "output_type": "stream",
     "text": [
      "Linear Regression Metrics:\n",
      "Mean Squared Error: 282078206.1073572\n",
      "Mean Absolute Error: 10506.891310066807\n",
      "R^2 Score: 0.2670521854073554\n",
      "---------------------------------\n"
     ]
    }
   ],
   "source": [
    "lb.train_linear_regression(X_train,X_test,y_train,y_test)"
   ]
  },
  {
   "cell_type": "code",
   "execution_count": 44,
   "metadata": {},
   "outputs": [
    {
     "name": "stdout",
     "output_type": "stream",
     "text": [
      "Linear Regression Metrics:\n",
      "Mean Squared Error: 282078206.1073572\n",
      "Mean Absolute Error: 10506.891310066807\n",
      "R^2 Score: 0.2670521854073554\n",
      "---------------------------------\n",
      "Métricas del modelo de regresión polinomial:\n",
      "Grado del polinomio: 2\n",
      "Error cuadrático medio (MSE) - Conjunto de entrenamiento: 273258715.97\n",
      "Error cuadrático medio (MSE) - Conjunto de prueba: 231790256.41\n",
      "Error absoluto medio (MAE) - Conjunto de entrenamiento: 9219.64\n",
      "Error absoluto medio (MAE) - Conjunto de prueba: 9354.93\n",
      "Coeficiente de determinación (R^2) - Conjunto de entrenamiento: 0.40\n",
      "Coeficiente de determinación (R^2) - Conjunto de prueba: 0.40\n",
      "Ridge Regression (alpha=1.0) Metrics:\n",
      "Mean Squared Error: 282073127.0210474\n",
      "Mean Absolute Error: 10498.426455053883\n",
      "R^2 Score: 0.26706538282966696\n",
      "---------------------------------\n",
      "Lasso Regression (alpha=1.0) Metrics:\n",
      "Mean Squared Error: 282075327.24444413\n",
      "Mean Absolute Error: 10503.752816089647\n",
      "R^2 Score: 0.2670596658019232\n",
      "---------------------------------\n",
      "ElasticNet Regression (alpha=1.0, l1_ratio=0.5) Metrics:\n",
      "Mean Squared Error: 359913415.9934812\n",
      "Mean Absolute Error: 11782.744045296437\n",
      "R^2 Score: 0.06480633390515933\n",
      "---------------------------------\n",
      "KNN Regression (n_neighbors=5) Metrics:\n",
      "Mean Squared Error: 198142499.50605932\n",
      "Mean Absolute Error: 7161.413526570049\n",
      "R^2 Score: 0.4851494768241066\n",
      "---------------------------------\n",
      "Decision Tree Regression (max_depth=None) Metrics:\n",
      "Mean Squared Error: 218729757.89882755\n",
      "Mean Absolute Error: 7321.5756991203625\n",
      "R^2 Score: 0.43165585086957026\n",
      "---------------------------------\n"
     ]
    },
    {
     "name": "stdout",
     "output_type": "stream",
     "text": [
      "Random Forest Regression (n_estimators=100) Metrics:\n",
      "Mean Squared Error: 164236021.02564183\n",
      "Mean Absolute Error: 6170.166667936587\n",
      "R^2 Score: 0.5732515661194991\n",
      "---------------------------------\n",
      "SVR Regression (kernel=rbf, C=1.0, epsilon=0.1) Metrics:\n",
      "Mean Squared Error: 397883658.4930884\n",
      "Mean Absolute Error: 11767.260039654411\n",
      "R^2 Score: -0.03385497936569948\n",
      "---------------------------------\n"
     ]
    }
   ],
   "source": [
    "lb.train_linear_regression(X_train,X_test,y_train,y_test)\n",
    "lb.train_polynomial_regression(X_train,X_test,y_train,y_test)\n",
    "lb.train_ridge_regression(X_train,X_test,y_train,y_test)\n",
    "lb.train_lasso_regression(X_train,X_test,y_train,y_test)\n",
    "lb.train_elasticnet_regression(X_train,X_test,y_train,y_test)\n",
    "lb.train_knn_regression(X_train,X_test,y_train,y_test)\n",
    "lb.train_decision_tree_regression(X_train,X_test,y_train,y_test)\n",
    "lb.train_random_forest_regression(X_train,X_test,y_train,y_test)\n",
    "lb.train_svr_regression(X_train,X_test,y_train,y_test)\n",
    "\n",
    "\n"
   ]
  },
  {
   "cell_type": "code",
   "execution_count": 45,
   "metadata": {},
   "outputs": [
    {
     "data": {
      "image/png": "[encoded data removed]",
      "text/plain": [
       "<Figure size 1000x600 with 1 Axes>"
      ]
     },
     "metadata": {},
     "output_type": "display_data"
    }
   ],
   "source": [
    "\n",
    "# Obtener los precios del DataFrame df_acotado\n",
    "precios = df_acotado.sort_values('Price').reset_index()['Price']\n",
    "\n",
    "# Crear un gráfico de puntos conectados por una línea para los precios\n",
    "plt.figure(figsize=(10, 6))  # Establecer el tamaño del gráfico\n",
    "\n",
    "# Crear el gráfico de línea para los precios\n",
    "plt.plot(precios, marker='o', linestyle='-')\n",
    "\n",
    "# Agregar etiquetas y título al gráfico\n",
    "plt.xlabel('Índice del vehículo')  # Puedes personalizar la etiqueta del eje x\n",
    "plt.ylabel('Precio')  # Puedes personalizar la etiqueta del eje y\n",
    "plt.title('Precios de vehículos conectados por línea')  # Título del gráfico\n",
    "\n",
    "# Mostrar el gráfico\n",
    "plt.grid(True)  # Agregar cuadrícula si es necesario\n",
    "plt.tight_layout()  # Ajustar el diseño automáticamente\n",
    "plt.show()"
   ]
  },
  {
   "cell_type": "code",
   "execution_count": 46,
   "metadata": {},
   "outputs": [
    {
     "data": {
      "text/html": [
       "<div>\n",
       "<style scoped>\n",
       "    .dataframe tbody tr th:only-of-type {\n",
       "        vertical-align: middle;\n",
       "    }\n",
       "\n",
       "    .dataframe tbody tr th {\n",
       "        vertical-align: top;\n",
       "    }\n",
       "\n",
       "    .dataframe thead th {\n",
       "        text-align: right;\n",
       "    }\n",
       "</style>\n",
       "<table border=\"1\" class=\"dataframe\">\n",
       "  <thead>\n",
       "    <tr style=\"text-align: right;\">\n",
       "      <th></th>\n",
       "      <th>Price</th>\n",
       "      <th>Prod. year</th>\n",
       "      <th>Engine volume</th>\n",
       "      <th>Cylinders</th>\n",
       "      <th>Airbags</th>\n",
       "      <th>Manufacturer_map</th>\n",
       "      <th>Model_map</th>\n",
       "      <th>Category_map</th>\n",
       "      <th>Leather interior_map</th>\n",
       "      <th>Fuel type_map</th>\n",
       "      <th>Gear box type_map</th>\n",
       "      <th>Color_map</th>\n",
       "      <th>Drive wheels_map</th>\n",
       "      <th>Doors_map</th>\n",
       "    </tr>\n",
       "  </thead>\n",
       "  <tbody>\n",
       "    <tr>\n",
       "      <th>14</th>\n",
       "      <td>59464</td>\n",
       "      <td>2016</td>\n",
       "      <td>2.0</td>\n",
       "      <td>4.0</td>\n",
       "      <td>4</td>\n",
       "      <td>6</td>\n",
       "      <td>107</td>\n",
       "      <td>10</td>\n",
       "      <td>0</td>\n",
       "      <td>6</td>\n",
       "      <td>0</td>\n",
       "      <td>8</td>\n",
       "      <td>0</td>\n",
       "      <td>5</td>\n",
       "    </tr>\n",
       "    <tr>\n",
       "      <th>36</th>\n",
       "      <td>51746</td>\n",
       "      <td>2019</td>\n",
       "      <td>2.0</td>\n",
       "      <td>4.0</td>\n",
       "      <td>12</td>\n",
       "      <td>29</td>\n",
       "      <td>42</td>\n",
       "      <td>10</td>\n",
       "      <td>1</td>\n",
       "      <td>1</td>\n",
       "      <td>1</td>\n",
       "      <td>15</td>\n",
       "      <td>0</td>\n",
       "      <td>5</td>\n",
       "    </tr>\n",
       "    <tr>\n",
       "      <th>41</th>\n",
       "      <td>45734</td>\n",
       "      <td>2016</td>\n",
       "      <td>2.5</td>\n",
       "      <td>4.0</td>\n",
       "      <td>4</td>\n",
       "      <td>6</td>\n",
       "      <td>1136</td>\n",
       "      <td>4</td>\n",
       "      <td>0</td>\n",
       "      <td>6</td>\n",
       "      <td>0</td>\n",
       "      <td>2</td>\n",
       "      <td>0</td>\n",
       "      <td>5</td>\n",
       "    </tr>\n",
       "    <tr>\n",
       "      <th>47</th>\n",
       "      <td>55390</td>\n",
       "      <td>2017</td>\n",
       "      <td>2.0</td>\n",
       "      <td>4.0</td>\n",
       "      <td>4</td>\n",
       "      <td>6</td>\n",
       "      <td>107</td>\n",
       "      <td>10</td>\n",
       "      <td>0</td>\n",
       "      <td>6</td>\n",
       "      <td>0</td>\n",
       "      <td>2</td>\n",
       "      <td>0</td>\n",
       "      <td>5</td>\n",
       "    </tr>\n",
       "    <tr>\n",
       "      <th>56</th>\n",
       "      <td>87112</td>\n",
       "      <td>2019</td>\n",
       "      <td>2.0</td>\n",
       "      <td>4.0</td>\n",
       "      <td>0</td>\n",
       "      <td>51</td>\n",
       "      <td>535</td>\n",
       "      <td>10</td>\n",
       "      <td>0</td>\n",
       "      <td>1</td>\n",
       "      <td>1</td>\n",
       "      <td>0</td>\n",
       "      <td>1</td>\n",
       "      <td>5</td>\n",
       "    </tr>\n",
       "    <tr>\n",
       "      <th>...</th>\n",
       "      <td>...</td>\n",
       "      <td>...</td>\n",
       "      <td>...</td>\n",
       "      <td>...</td>\n",
       "      <td>...</td>\n",
       "      <td>...</td>\n",
       "      <td>...</td>\n",
       "      <td>...</td>\n",
       "      <td>...</td>\n",
       "      <td>...</td>\n",
       "      <td>...</td>\n",
       "      <td>...</td>\n",
       "      <td>...</td>\n",
       "      <td>...</td>\n",
       "    </tr>\n",
       "    <tr>\n",
       "      <th>19144</th>\n",
       "      <td>56814</td>\n",
       "      <td>2017</td>\n",
       "      <td>2.0</td>\n",
       "      <td>4.0</td>\n",
       "      <td>4</td>\n",
       "      <td>6</td>\n",
       "      <td>699</td>\n",
       "      <td>3</td>\n",
       "      <td>0</td>\n",
       "      <td>1</td>\n",
       "      <td>0</td>\n",
       "      <td>2</td>\n",
       "      <td>0</td>\n",
       "      <td>5</td>\n",
       "    </tr>\n",
       "    <tr>\n",
       "      <th>19161</th>\n",
       "      <td>64290</td>\n",
       "      <td>2012</td>\n",
       "      <td>3.5</td>\n",
       "      <td>6.0</td>\n",
       "      <td>12</td>\n",
       "      <td>10</td>\n",
       "      <td>73</td>\n",
       "      <td>10</td>\n",
       "      <td>0</td>\n",
       "      <td>0</td>\n",
       "      <td>3</td>\n",
       "      <td>2</td>\n",
       "      <td>1</td>\n",
       "      <td>5</td>\n",
       "    </tr>\n",
       "    <tr>\n",
       "      <th>19175</th>\n",
       "      <td>42883</td>\n",
       "      <td>2015</td>\n",
       "      <td>2.4</td>\n",
       "      <td>4.0</td>\n",
       "      <td>4</td>\n",
       "      <td>34</td>\n",
       "      <td>225</td>\n",
       "      <td>10</td>\n",
       "      <td>0</td>\n",
       "      <td>1</td>\n",
       "      <td>0</td>\n",
       "      <td>8</td>\n",
       "      <td>0</td>\n",
       "      <td>5</td>\n",
       "    </tr>\n",
       "    <tr>\n",
       "      <th>19180</th>\n",
       "      <td>63886</td>\n",
       "      <td>2020</td>\n",
       "      <td>2.0</td>\n",
       "      <td>4.0</td>\n",
       "      <td>4</td>\n",
       "      <td>6</td>\n",
       "      <td>699</td>\n",
       "      <td>3</td>\n",
       "      <td>0</td>\n",
       "      <td>3</td>\n",
       "      <td>0</td>\n",
       "      <td>6</td>\n",
       "      <td>0</td>\n",
       "      <td>5</td>\n",
       "    </tr>\n",
       "    <tr>\n",
       "      <th>19188</th>\n",
       "      <td>61154</td>\n",
       "      <td>2017</td>\n",
       "      <td>2.5</td>\n",
       "      <td>4.0</td>\n",
       "      <td>12</td>\n",
       "      <td>29</td>\n",
       "      <td>1412</td>\n",
       "      <td>10</td>\n",
       "      <td>1</td>\n",
       "      <td>0</td>\n",
       "      <td>1</td>\n",
       "      <td>8</td>\n",
       "      <td>1</td>\n",
       "      <td>5</td>\n",
       "    </tr>\n",
       "  </tbody>\n",
       "</table>\n",
       "<p>1556 rows × 14 columns</p>\n",
       "</div>"
      ],
      "text/plain": [
       "       Price  Prod. year  Engine volume  Cylinders  Airbags  Manufacturer_map  \\\n",
       "14     59464        2016            2.0        4.0        4                 6   \n",
       "36     51746        2019            2.0        4.0       12                29   \n",
       "41     45734        2016            2.5        4.0        4                 6   \n",
       "47     55390        2017            2.0        4.0        4                 6   \n",
       "56     87112        2019            2.0        4.0        0                51   \n",
       "...      ...         ...            ...        ...      ...               ...   \n",
       "19144  56814        2017            2.0        4.0        4                 6   \n",
       "19161  64290        2012            3.5        6.0       12                10   \n",
       "19175  42883        2015            2.4        4.0        4                34   \n",
       "19180  63886        2020            2.0        4.0        4                 6   \n",
       "19188  61154        2017            2.5        4.0       12                29   \n",
       "\n",
       "       Model_map  Category_map  Leather interior_map  Fuel type_map  \\\n",
       "14           107            10                     0              6   \n",
       "36            42            10                     1              1   \n",
       "41          1136             4                     0              6   \n",
       "47           107            10                     0              6   \n",
       "56           535            10                     0              1   \n",
       "...          ...           ...                   ...            ...   \n",
       "19144        699             3                     0              1   \n",
       "19161         73            10                     0              0   \n",
       "19175        225            10                     0              1   \n",
       "19180        699             3                     0              3   \n",
       "19188       1412            10                     1              0   \n",
       "\n",
       "       Gear box type_map  Color_map  Drive wheels_map  Doors_map  \n",
       "14                     0          8                 0          5  \n",
       "36                     1         15                 0          5  \n",
       "41                     0          2                 0          5  \n",
       "47                     0          2                 0          5  \n",
       "56                     1          0                 1          5  \n",
       "...                  ...        ...               ...        ...  \n",
       "19144                  0          2                 0          5  \n",
       "19161                  3          2                 1          5  \n",
       "19175                  0          8                 0          5  \n",
       "19180                  0          6                 0          5  \n",
       "19188                  1          8                 1          5  \n",
       "\n",
       "[1556 rows x 14 columns]"
      ]
     },
     "execution_count": 46,
     "metadata": {},
     "output_type": "execute_result"
    }
   ],
   "source": [
    "df_acotado[df_acotado['Price']>40000]"
   ]
  },
  {
   "cell_type": "code",
   "execution_count": 47,
   "metadata": {},
   "outputs": [
    {
     "data": {
      "text/html": [
       "<div>\n",
       "<style scoped>\n",
       "    .dataframe tbody tr th:only-of-type {\n",
       "        vertical-align: middle;\n",
       "    }\n",
       "\n",
       "    .dataframe tbody tr th {\n",
       "        vertical-align: top;\n",
       "    }\n",
       "\n",
       "    .dataframe thead th {\n",
       "        text-align: right;\n",
       "    }\n",
       "</style>\n",
       "<table border=\"1\" class=\"dataframe\">\n",
       "  <thead>\n",
       "    <tr style=\"text-align: right;\">\n",
       "      <th></th>\n",
       "      <th>Price</th>\n",
       "      <th>Prod. year</th>\n",
       "      <th>Engine volume</th>\n",
       "      <th>Cylinders</th>\n",
       "      <th>Airbags</th>\n",
       "      <th>Manufacturer_map</th>\n",
       "      <th>Model_map</th>\n",
       "      <th>Category_map</th>\n",
       "      <th>Leather interior_map</th>\n",
       "      <th>Fuel type_map</th>\n",
       "      <th>Gear box type_map</th>\n",
       "      <th>Color_map</th>\n",
       "      <th>Drive wheels_map</th>\n",
       "      <th>Doors_map</th>\n",
       "    </tr>\n",
       "  </thead>\n",
       "  <tbody>\n",
       "    <tr>\n",
       "      <th>5</th>\n",
       "      <td>39493</td>\n",
       "      <td>2016</td>\n",
       "      <td>2.0</td>\n",
       "      <td>4.0</td>\n",
       "      <td>4</td>\n",
       "      <td>6</td>\n",
       "      <td>107</td>\n",
       "      <td>10</td>\n",
       "      <td>0</td>\n",
       "      <td>6</td>\n",
       "      <td>0</td>\n",
       "      <td>8</td>\n",
       "      <td>0</td>\n",
       "      <td>5</td>\n",
       "    </tr>\n",
       "    <tr>\n",
       "      <th>9</th>\n",
       "      <td>26657</td>\n",
       "      <td>2007</td>\n",
       "      <td>3.5</td>\n",
       "      <td>6.0</td>\n",
       "      <td>12</td>\n",
       "      <td>10</td>\n",
       "      <td>1257</td>\n",
       "      <td>10</td>\n",
       "      <td>0</td>\n",
       "      <td>1</td>\n",
       "      <td>0</td>\n",
       "      <td>6</td>\n",
       "      <td>1</td>\n",
       "      <td>5</td>\n",
       "    </tr>\n",
       "    <tr>\n",
       "      <th>17</th>\n",
       "      <td>28382</td>\n",
       "      <td>2016</td>\n",
       "      <td>1.8</td>\n",
       "      <td>4.0</td>\n",
       "      <td>4</td>\n",
       "      <td>6</td>\n",
       "      <td>984</td>\n",
       "      <td>3</td>\n",
       "      <td>0</td>\n",
       "      <td>1</td>\n",
       "      <td>0</td>\n",
       "      <td>8</td>\n",
       "      <td>0</td>\n",
       "      <td>5</td>\n",
       "    </tr>\n",
       "    <tr>\n",
       "      <th>21</th>\n",
       "      <td>20698</td>\n",
       "      <td>2012</td>\n",
       "      <td>1.8</td>\n",
       "      <td>4.0</td>\n",
       "      <td>12</td>\n",
       "      <td>29</td>\n",
       "      <td>49</td>\n",
       "      <td>3</td>\n",
       "      <td>0</td>\n",
       "      <td>4</td>\n",
       "      <td>0</td>\n",
       "      <td>8</td>\n",
       "      <td>0</td>\n",
       "      <td>5</td>\n",
       "    </tr>\n",
       "    <tr>\n",
       "      <th>25</th>\n",
       "      <td>20385</td>\n",
       "      <td>2006</td>\n",
       "      <td>2.2</td>\n",
       "      <td>4.0</td>\n",
       "      <td>8</td>\n",
       "      <td>51</td>\n",
       "      <td>79</td>\n",
       "      <td>3</td>\n",
       "      <td>0</td>\n",
       "      <td>6</td>\n",
       "      <td>1</td>\n",
       "      <td>2</td>\n",
       "      <td>2</td>\n",
       "      <td>5</td>\n",
       "    </tr>\n",
       "    <tr>\n",
       "      <th>...</th>\n",
       "      <td>...</td>\n",
       "      <td>...</td>\n",
       "      <td>...</td>\n",
       "      <td>...</td>\n",
       "      <td>...</td>\n",
       "      <td>...</td>\n",
       "      <td>...</td>\n",
       "      <td>...</td>\n",
       "      <td>...</td>\n",
       "      <td>...</td>\n",
       "      <td>...</td>\n",
       "      <td>...</td>\n",
       "      <td>...</td>\n",
       "      <td>...</td>\n",
       "    </tr>\n",
       "    <tr>\n",
       "      <th>19207</th>\n",
       "      <td>22197</td>\n",
       "      <td>2012</td>\n",
       "      <td>1.5</td>\n",
       "      <td>4.0</td>\n",
       "      <td>4</td>\n",
       "      <td>29</td>\n",
       "      <td>1507</td>\n",
       "      <td>1</td>\n",
       "      <td>0</td>\n",
       "      <td>1</td>\n",
       "      <td>0</td>\n",
       "      <td>2</td>\n",
       "      <td>0</td>\n",
       "      <td>5</td>\n",
       "    </tr>\n",
       "    <tr>\n",
       "      <th>19208</th>\n",
       "      <td>34811</td>\n",
       "      <td>2013</td>\n",
       "      <td>2.5</td>\n",
       "      <td>4.0</td>\n",
       "      <td>6</td>\n",
       "      <td>29</td>\n",
       "      <td>1412</td>\n",
       "      <td>10</td>\n",
       "      <td>1</td>\n",
       "      <td>1</td>\n",
       "      <td>1</td>\n",
       "      <td>0</td>\n",
       "      <td>0</td>\n",
       "      <td>5</td>\n",
       "    </tr>\n",
       "    <tr>\n",
       "      <th>19216</th>\n",
       "      <td>37633</td>\n",
       "      <td>2017</td>\n",
       "      <td>2.5</td>\n",
       "      <td>4.0</td>\n",
       "      <td>12</td>\n",
       "      <td>29</td>\n",
       "      <td>1412</td>\n",
       "      <td>10</td>\n",
       "      <td>0</td>\n",
       "      <td>1</td>\n",
       "      <td>1</td>\n",
       "      <td>12</td>\n",
       "      <td>0</td>\n",
       "      <td>5</td>\n",
       "    </tr>\n",
       "    <tr>\n",
       "      <th>19217</th>\n",
       "      <td>26017</td>\n",
       "      <td>2009</td>\n",
       "      <td>3.5</td>\n",
       "      <td>4.0</td>\n",
       "      <td>4</td>\n",
       "      <td>10</td>\n",
       "      <td>157</td>\n",
       "      <td>3</td>\n",
       "      <td>0</td>\n",
       "      <td>1</td>\n",
       "      <td>0</td>\n",
       "      <td>8</td>\n",
       "      <td>0</td>\n",
       "      <td>5</td>\n",
       "    </tr>\n",
       "    <tr>\n",
       "      <th>19234</th>\n",
       "      <td>26108</td>\n",
       "      <td>2010</td>\n",
       "      <td>2.0</td>\n",
       "      <td>4.0</td>\n",
       "      <td>4</td>\n",
       "      <td>6</td>\n",
       "      <td>1467</td>\n",
       "      <td>10</td>\n",
       "      <td>0</td>\n",
       "      <td>6</td>\n",
       "      <td>0</td>\n",
       "      <td>0</td>\n",
       "      <td>0</td>\n",
       "      <td>5</td>\n",
       "    </tr>\n",
       "  </tbody>\n",
       "</table>\n",
       "<p>3473 rows × 14 columns</p>\n",
       "</div>"
      ],
      "text/plain": [
       "       Price  Prod. year  Engine volume  Cylinders  Airbags  Manufacturer_map  \\\n",
       "5      39493        2016            2.0        4.0        4                 6   \n",
       "9      26657        2007            3.5        6.0       12                10   \n",
       "17     28382        2016            1.8        4.0        4                 6   \n",
       "21     20698        2012            1.8        4.0       12                29   \n",
       "25     20385        2006            2.2        4.0        8                51   \n",
       "...      ...         ...            ...        ...      ...               ...   \n",
       "19207  22197        2012            1.5        4.0        4                29   \n",
       "19208  34811        2013            2.5        4.0        6                29   \n",
       "19216  37633        2017            2.5        4.0       12                29   \n",
       "19217  26017        2009            3.5        4.0        4                10   \n",
       "19234  26108        2010            2.0        4.0        4                 6   \n",
       "\n",
       "       Model_map  Category_map  Leather interior_map  Fuel type_map  \\\n",
       "5            107            10                     0              6   \n",
       "9           1257            10                     0              1   \n",
       "17           984             3                     0              1   \n",
       "21            49             3                     0              4   \n",
       "25            79             3                     0              6   \n",
       "...          ...           ...                   ...            ...   \n",
       "19207       1507             1                     0              1   \n",
       "19208       1412            10                     1              1   \n",
       "19216       1412            10                     0              1   \n",
       "19217        157             3                     0              1   \n",
       "19234       1467            10                     0              6   \n",
       "\n",
       "       Gear box type_map  Color_map  Drive wheels_map  Doors_map  \n",
       "5                      0          8                 0          5  \n",
       "9                      0          6                 1          5  \n",
       "17                     0          8                 0          5  \n",
       "21                     0          8                 0          5  \n",
       "25                     1          2                 2          5  \n",
       "...                  ...        ...               ...        ...  \n",
       "19207                  0          2                 0          5  \n",
       "19208                  1          0                 0          5  \n",
       "19216                  1         12                 0          5  \n",
       "19217                  0          8                 0          5  \n",
       "19234                  0          0                 0          5  \n",
       "\n",
       "[3473 rows x 14 columns]"
      ]
     },
     "execution_count": 47,
     "metadata": {},
     "output_type": "execute_result"
    }
   ],
   "source": [
    "df_acotado[(df_acotado['Price']>20000) & (df_acotado['Price']<40000) ]"
   ]
  },
  {
   "cell_type": "code",
   "execution_count": 48,
   "metadata": {},
   "outputs": [],
   "source": [
    "from sklearn.ensemble import RandomForestRegressor\n",
    "from sklearn.model_selection import GridSearchCV\n",
    "from sklearn.metrics import make_scorer, r2_score"
   ]
  },
  {
   "cell_type": "markdown",
   "metadata": {},
   "source": []
  },
  {
   "cell_type": "code",
   "execution_count": 49,
   "metadata": {},
   "outputs": [],
   "source": [
    "model = RandomForestRegressor()\n",
    "\n",
    "param_grid = {\n",
    "    'n_estimators': [50, 100, 200],  # Número de árboles en el bosque\n",
    "    'max_depth': [None, 10, 20],      # Profundidad máxima de cada árbol\n",
    "    'min_samples_split': [2, 5, 10]   # Número mínimo de muestras requeridas para dividir un nodo\n",
    "}"
   ]
  },
  {
   "cell_type": "code",
   "execution_count": 50,
   "metadata": {},
   "outputs": [],
   "source": [
    "scorer = make_scorer(r2_score)\n",
    "\n",
    "grid_search = GridSearchCV(estimator=model, param_grid=param_grid, scoring=scorer, cv=5, verbose=1)"
   ]
  },
  {
   "cell_type": "code",
   "execution_count": 51,
   "metadata": {},
   "outputs": [
    {
     "name": "stdout",
     "output_type": "stream",
     "text": [
      "Fitting 5 folds for each of 27 candidates, totalling 135 fits\n"
     ]
    },
    {
     "data": {
      "text/html": [
       "<style>#sk-container-id-1 {color: black;background-color: white;}#sk-container-id-1 pre{padding: 0;}#sk-container-id-1 div.sk-toggleable {background-color: white;}#sk-container-id-1 label.sk-toggleable__label {cursor: pointer;display: block;width: 100%;margin-bottom: 0;padding: 0.3em;box-sizing: border-box;text-align: center;}#sk-container-id-1 label.sk-toggleable__label-arrow:before {content: \"▸\";float: left;margin-right: 0.25em;color: #696969;}#sk-container-id-1 label.sk-toggleable__label-arrow:hover:before {color: black;}#sk-container-id-1 div.sk-estimator:hover label.sk-toggleable__label-arrow:before {color: black;}#sk-container-id-1 div.sk-toggleable__content {max-height: 0;max-width: 0;overflow: hidden;text-align: left;background-color: #f0f8ff;}#sk-container-id-1 div.sk-toggleable__content pre {margin: 0.2em;color: black;border-radius: 0.25em;background-color: #f0f8ff;}#sk-container-id-1 input.sk-toggleable__control:checked~div.sk-toggleable__content {max-height: 200px;max-width: 100%;overflow: auto;}#sk-container-id-1 input.sk-toggleable__control:checked~label.sk-toggleable__label-arrow:before {content: \"▾\";}#sk-container-id-1 div.sk-estimator input.sk-toggleable__control:checked~label.sk-toggleable__label {background-color: #d4ebff;}#sk-container-id-1 div.sk-label input.sk-toggleable__control:checked~label.sk-toggleable__label {background-color: #d4ebff;}#sk-container-id-1 input.sk-hidden--visually {border: 0;clip: rect(1px 1px 1px 1px);clip: rect(1px, 1px, 1px, 1px);height: 1px;margin: -1px;overflow: hidden;padding: 0;position: absolute;width: 1px;}#sk-container-id-1 div.sk-estimator {font-family: monospace;background-color: #f0f8ff;border: 1px dotted black;border-radius: 0.25em;box-sizing: border-box;margin-bottom: 0.5em;}#sk-container-id-1 div.sk-estimator:hover {background-color: #d4ebff;}#sk-container-id-1 div.sk-parallel-item::after {content: \"\";width: 100%;border-bottom: 1px solid gray;flex-grow: 1;}#sk-container-id-1 div.sk-label:hover label.sk-toggleable__label {background-color: #d4ebff;}#sk-container-id-1 div.sk-serial::before {content: \"\";position: absolute;border-left: 1px solid gray;box-sizing: border-box;top: 0;bottom: 0;left: 50%;z-index: 0;}#sk-container-id-1 div.sk-serial {display: flex;flex-direction: column;align-items: center;background-color: white;padding-right: 0.2em;padding-left: 0.2em;position: relative;}#sk-container-id-1 div.sk-item {position: relative;z-index: 1;}#sk-container-id-1 div.sk-parallel {display: flex;align-items: stretch;justify-content: center;background-color: white;position: relative;}#sk-container-id-1 div.sk-item::before, #sk-container-id-1 div.sk-parallel-item::before {content: \"\";position: absolute;border-left: 1px solid gray;box-sizing: border-box;top: 0;bottom: 0;left: 50%;z-index: -1;}#sk-container-id-1 div.sk-parallel-item {display: flex;flex-direction: column;z-index: 1;position: relative;background-color: white;}#sk-container-id-1 div.sk-parallel-item:first-child::after {align-self: flex-end;width: 50%;}#sk-container-id-1 div.sk-parallel-item:last-child::after {align-self: flex-start;width: 50%;}#sk-container-id-1 div.sk-parallel-item:only-child::after {width: 0;}#sk-container-id-1 div.sk-dashed-wrapped {border: 1px dashed gray;margin: 0 0.4em 0.5em 0.4em;box-sizing: border-box;padding-bottom: 0.4em;background-color: white;}#sk-container-id-1 div.sk-label label {font-family: monospace;font-weight: bold;display: inline-block;line-height: 1.2em;}#sk-container-id-1 div.sk-label-container {text-align: center;}#sk-container-id-1 div.sk-container {/* jupyter's `normalize.less` sets `[hidden] { display: none; }` but bootstrap.min.css set `[hidden] { display: none !important; }` so we also need the `!important` here to be able to override the default hidden behavior on the sphinx rendered scikit-learn.org. See: https://github.com/scikit-learn/scikit-learn/issues/21755 */display: inline-block !important;position: relative;}#sk-container-id-1 div.sk-text-repr-fallback {display: none;}</style><div id=\"sk-container-id-1\" class=\"sk-top-container\"><div class=\"sk-text-repr-fallback\"><pre>GridSearchCV(cv=5, estimator=RandomForestRegressor(),\n",
       "             param_grid={&#x27;max_depth&#x27;: [None, 10, 20],\n",
       "                         &#x27;min_samples_split&#x27;: [2, 5, 10],\n",
       "                         &#x27;n_estimators&#x27;: [50, 100, 200]},\n",
       "             scoring=make_scorer(r2_score), verbose=1)</pre><b>In a Jupyter environment, please rerun this cell to show the HTML representation or trust the notebook. <br />On GitHub, the HTML representation is unable to render, please try loading this page with nbviewer.org.</b></div><div class=\"sk-container\" hidden><div class=\"sk-item sk-dashed-wrapped\"><div class=\"sk-label-container\"><div class=\"sk-label sk-toggleable\"><input class=\"sk-toggleable__control sk-hidden--visually\" id=\"sk-estimator-id-1\" type=\"checkbox\" ><label for=\"sk-estimator-id-1\" class=\"sk-toggleable__label sk-toggleable__label-arrow\">GridSearchCV</label><div class=\"sk-toggleable__content\"><pre>GridSearchCV(cv=5, estimator=RandomForestRegressor(),\n",
       "             param_grid={&#x27;max_depth&#x27;: [None, 10, 20],\n",
       "                         &#x27;min_samples_split&#x27;: [2, 5, 10],\n",
       "                         &#x27;n_estimators&#x27;: [50, 100, 200]},\n",
       "             scoring=make_scorer(r2_score), verbose=1)</pre></div></div></div><div class=\"sk-parallel\"><div class=\"sk-parallel-item\"><div class=\"sk-item\"><div class=\"sk-label-container\"><div class=\"sk-label sk-toggleable\"><input class=\"sk-toggleable__control sk-hidden--visually\" id=\"sk-estimator-id-2\" type=\"checkbox\" ><label for=\"sk-estimator-id-2\" class=\"sk-toggleable__label sk-toggleable__label-arrow\">estimator: RandomForestRegressor</label><div class=\"sk-toggleable__content\"><pre>RandomForestRegressor()</pre></div></div></div><div class=\"sk-serial\"><div class=\"sk-item\"><div class=\"sk-estimator sk-toggleable\"><input class=\"sk-toggleable__control sk-hidden--visually\" id=\"sk-estimator-id-3\" type=\"checkbox\" ><label for=\"sk-estimator-id-3\" class=\"sk-toggleable__label sk-toggleable__label-arrow\">RandomForestRegressor</label><div class=\"sk-toggleable__content\"><pre>RandomForestRegressor()</pre></div></div></div></div></div></div></div></div></div></div>"
      ],
      "text/plain": [
       "GridSearchCV(cv=5, estimator=RandomForestRegressor(),\n",
       "             param_grid={'max_depth': [None, 10, 20],\n",
       "                         'min_samples_split': [2, 5, 10],\n",
       "                         'n_estimators': [50, 100, 200]},\n",
       "             scoring=make_scorer(r2_score), verbose=1)"
      ]
     },
     "execution_count": 51,
     "metadata": {},
     "output_type": "execute_result"
    }
   ],
   "source": [
    "grid_search.fit(X_train, y_train)\n"
   ]
  },
  {
   "cell_type": "code",
   "execution_count": 52,
   "metadata": {},
   "outputs": [
    {
     "name": "stdout",
     "output_type": "stream",
     "text": [
      "Best R-squared: 0.5426890736687764\n"
     ]
    }
   ],
   "source": [
    "best_model = grid_search.best_estimator_\n",
    "y_pred = best_model.predict(X_test)\n",
    "r2 = r2_score(y_test, y_pred)\n",
    "print(\"Best R-squared:\", r2)"
   ]
  },
  {
   "cell_type": "code",
   "execution_count": 54,
   "metadata": {},
   "outputs": [
    {
     "data": {
      "image/png": "[encoded data removed]",
      "text/plain": [
       "<Figure size 1000x600 with 1 Axes>"
      ]
     },
     "metadata": {},
     "output_type": "display_data"
    }
   ],
   "source": [
    "features = df_acotado.drop('Price', axis=1)  # Elimina la columna 'target' para obtener las características\n",
    "\n",
    "target = df_acotado['Price']\n",
    "\n",
    "importances = best_model.feature_importances_\n",
    "\n",
    "plt.figure(figsize=(10, 6))\n",
    "plt.title(\"Importancia de las Características\")\n",
    "plt.bar(features.columns, importances)\n",
    "plt.xlabel(\"Características\")\n",
    "plt.ylabel(\"Importancia\")\n",
    "plt.xticks(rotation=90)  # Rotar etiquetas del eje x para mejorar la legibilidad\n",
    "plt.show()"
   ]
  },
  {
   "cell_type": "code",
   "execution_count": 55,
   "metadata": {},
   "outputs": [],
   "source": [
    "df_acotado2 = df_acotado.drop(['Leather interior_map','Doors_map','Drive wheels_map','Color_map','Fuel type_map'], axis = 1)"
   ]
  },
  {
   "cell_type": "code",
   "execution_count": 59,
   "metadata": {},
   "outputs": [],
   "source": [
    "X = df_acotado2.drop('Price',axis=1).values\n",
    "y = df_acotado2['Price'].values"
   ]
  },
  {
   "cell_type": "code",
   "execution_count": 60,
   "metadata": {},
   "outputs": [],
   "source": [
    "X_train, X_test, y_train, y_test = train_test_split(X, y, test_size = 0.20, random_state =42)\n"
   ]
  },
  {
   "cell_type": "code",
   "execution_count": 61,
   "metadata": {},
   "outputs": [
    {
     "name": "stdout",
     "output_type": "stream",
     "text": [
      "Linear Regression Metrics:\n",
      "Mean Squared Error: 292523689.38204324\n",
      "Mean Absolute Error: 10690.721483734264\n",
      "R^2 Score: 0.23991079705198792\n",
      "---------------------------------\n",
      "Métricas del modelo de regresión polinomial:\n",
      "Grado del polinomio: 2\n",
      "Error cuadrático medio (MSE) - Conjunto de entrenamiento: 289587290.13\n",
      "Error cuadrático medio (MSE) - Conjunto de prueba: 249848769.80\n",
      "Error absoluto medio (MAE) - Conjunto de entrenamiento: 9579.98\n",
      "Error absoluto medio (MAE) - Conjunto de prueba: 9688.67\n",
      "Coeficiente de determinación (R^2) - Conjunto de entrenamiento: 0.36\n",
      "Coeficiente de determinación (R^2) - Conjunto de prueba: 0.35\n",
      "Ridge Regression (alpha=1.0) Metrics:\n",
      "Mean Squared Error: 292539763.85625666\n",
      "Mean Absolute Error: 10683.921647259434\n",
      "R^2 Score: 0.23986902937731347\n",
      "---------------------------------\n",
      "Lasso Regression (alpha=1.0) Metrics:\n",
      "Mean Squared Error: 292516727.84684134\n",
      "Mean Absolute Error: 10688.077431598742\n",
      "R^2 Score: 0.23992888580149763\n",
      "---------------------------------\n",
      "ElasticNet Regression (alpha=1.0, l1_ratio=0.5) Metrics:\n",
      "Mean Squared Error: 368394419.49337125\n",
      "Mean Absolute Error: 12014.068064992056\n",
      "R^2 Score: 0.04276942057329025\n",
      "---------------------------------\n",
      "KNN Regression (n_neighbors=5) Metrics:\n",
      "Mean Squared Error: 203074040.77795723\n",
      "Mean Absolute Error: 7164.879848171153\n",
      "R^2 Score: 0.47233543334413874\n",
      "---------------------------------\n",
      "Decision Tree Regression (max_depth=None) Metrics:\n",
      "Mean Squared Error: 210228455.60287225\n",
      "Mean Absolute Error: 7237.422541662467\n",
      "R^2 Score: 0.45374550829117344\n",
      "---------------------------------\n",
      "Random Forest Regression (n_estimators=100) Metrics:\n",
      "Mean Squared Error: 175882491.52360082\n",
      "Mean Absolute Error: 6556.766899966472\n",
      "R^2 Score: 0.5429895504289006\n",
      "---------------------------------\n",
      "SVR Regression (kernel=rbf, C=1.0, epsilon=0.1) Metrics:\n",
      "Mean Squared Error: 397111285.3726655\n",
      "Mean Absolute Error: 11754.734795564162\n",
      "R^2 Score: -0.03184805653930911\n",
      "---------------------------------\n"
     ]
    }
   ],
   "source": [
    "lb.train_linear_regression(X_train,X_test,y_train,y_test)\n",
    "lb.train_polynomial_regression(X_train,X_test,y_train,y_test)\n",
    "lb.train_ridge_regression(X_train,X_test,y_train,y_test)\n",
    "lb.train_lasso_regression(X_train,X_test,y_train,y_test)\n",
    "lb.train_elasticnet_regression(X_train,X_test,y_train,y_test)\n",
    "lb.train_knn_regression(X_train,X_test,y_train,y_test)\n",
    "lb.train_decision_tree_regression(X_train,X_test,y_train,y_test)\n",
    "lb.train_random_forest_regression(X_train,X_test,y_train,y_test)\n",
    "lb.train_svr_regression(X_train,X_test,y_train,y_test)"
   ]
  },
  {
   "cell_type": "code",
   "execution_count": 62,
   "metadata": {},
   "outputs": [
    {
     "name": "stdout",
     "output_type": "stream",
     "text": [
      "Fitting 5 folds for each of 27 candidates, totalling 135 fits\n",
      "Best R-squared: 0.5209796009463703\n"
     ]
    }
   ],
   "source": [
    "model = RandomForestRegressor()\n",
    "\n",
    "param_grid = {\n",
    "    'n_estimators': [50, 100, 200],  # Número de árboles en el bosque\n",
    "    'max_depth': [None, 10, 20],      # Profundidad máxima de cada árbol\n",
    "    'min_samples_split': [2, 5, 10]   # Número mínimo de muestras requeridas para dividir un nodo\n",
    "}\n",
    "scorer = make_scorer(r2_score)\n",
    "\n",
    "grid_search = GridSearchCV(estimator=model, param_grid=param_grid, scoring=scorer, cv=5, verbose=1)\n",
    "grid_search.fit(X_train, y_train)\n",
    "best_model = grid_search.best_estimator_\n",
    "y_pred = best_model.predict(X_test)\n",
    "r2 = r2_score(y_test, y_pred)\n",
    "print(\"Best R-squared:\", r2)"
   ]
  }
 ],
 "metadata": {
  "kernelspec": {
   "display_name": "base",
   "language": "python",
   "name": "python3"
  },
  "language_info": {
   "codemirror_mode": {
    "name": "ipython",
    "version": 3
   },
   "file_extension": ".py",
   "mimetype": "text/x-python",
   "name": "python",
   "nbconvert_exporter": "python",
   "pygments_lexer": "ipython3",
   "version": "3.11.7"
  }
 },
 "nbformat": 4,
 "nbformat_minor": 2
}
